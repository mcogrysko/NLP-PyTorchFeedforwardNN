{
 "cells": [
  {
   "cell_type": "markdown",
   "id": "cece8c3f",
   "metadata": {},
   "source": [
    "### Mike Ogrysko\n",
    "### CS 766 Information Retrieval and Natural Language Processing\n",
    "\n",
    "Processing the IMDB movie reviews for sentiment analysis with PyTorch Feedforward Neural Network\n",
    "- TFIDF matrix with 1000 top features\n",
    "- 10-fold classification evaluation function\n",
    "- PyTorch feed forward neural network with 1 hidden layer - input and hidden layers with ReLU activation and output with Softmax activation\n",
    "- Tune the hyper-parameter eta and plot the performance on various eta values"
   ]
  },
  {
   "cell_type": "code",
   "execution_count": 1,
   "id": "b1bd5344",
   "metadata": {},
   "outputs": [],
   "source": [
    "import csv\n",
    "%matplotlib inline\n",
    "import matplotlib.pyplot as plt\n",
    "import numpy as np\n",
    "import pandas as pd\n",
    "from sklearn.feature_extraction.text import CountVectorizer, TfidfTransformer, TfidfVectorizer\n",
    "from sklearn.pipeline import Pipeline\n",
    "from sklearn.model_selection import StratifiedKFold\n",
    "from sklearn.metrics import accuracy_score, classification_report, adjusted_rand_score\n",
    "from sklearn.svm import LinearSVC\n",
    "from string import punctuation\n",
    "from nltk.corpus import stopwords\n",
    "from nltk.stem import WordNetLemmatizer\n",
    "import nltk\n",
    "from nltk import word_tokenize\n",
    "from nltk.tokenize import wordpunct_tokenize\n",
    "import re\n",
    "import torch\n",
    "import torch.nn as nn\n",
    "import torch.nn.functional as F\n",
    "import torch.optim as optim"
   ]
  },
  {
   "cell_type": "markdown",
   "id": "da875347",
   "metadata": {},
   "source": [
    "**TFIDF matrix with 1000 top features**"
   ]
  },
  {
   "cell_type": "code",
   "execution_count": 2,
   "id": "026bc4f5",
   "metadata": {},
   "outputs": [],
   "source": [
    "#combination of stop words and punctuations, also get rid of br\n",
    "stop_words = stopwords.words('english') + list(punctuation)\n",
    "stop_words_set = set(stop_words) | set(['br']) | set(['p']) | set(['the']) | set(['this']) | set(['etc'])\n",
    "\n",
    "#develop tokenizer\n",
    "def tokenize(text):\n",
    "    terms = word_tokenize(text)\n",
    "    #all lower case\n",
    "    terms = [w.lower() for w in terms]\n",
    "    #filter stop words\n",
    "    terms = [w for w in terms if w not in stop_words_set and not w.isdigit()]\n",
    "    #regex for contractions and other special character strings\n",
    "    terms = [w for w in terms if not re.search(r'^\\W+|\\w\\'\\w+|\\'\\w+$', w)]\n",
    "    terms = [w for w in terms if not re.search(r'^[^a-z]+$', w)]\n",
    "    #regex for words two letters or less and numbers\n",
    "    terms = [w for w in terms if not re.search(r'^\\b\\w{1,2}\\b|(?<!\\S)\\d+(?!\\S)$', w)]\n",
    "    #lemmatize\n",
    "    lemmatizer = WordNetLemmatizer()\n",
    "    terms = [lemmatizer.lemmatize(w, 'n') for w in terms]\n",
    "    return terms\n"
   ]
  },
  {
   "cell_type": "code",
   "execution_count": 5,
   "id": "14b407ec",
   "metadata": {},
   "outputs": [
    {
     "name": "stdout",
     "output_type": "stream",
     "text": [
      "Total reviews loaded 50000\n",
      "Total sentiments loaded 50000\n"
     ]
    }
   ],
   "source": [
    "Reviews, Sentiments = [], []\n",
    "\n",
    "with open('movie_data.csv','r', encoding='utf8') as fin:\n",
    "    reader = csv.reader(fin, delimiter=',', quotechar='\"')\n",
    "    header = next(reader)\n",
    "    for i, line in enumerate(reader):\n",
    "        Reviews += [line[0]]\n",
    "        Sentiments +=[int(line[1])]\n",
    "\n",
    "N=len(Reviews)\n",
    "M=len(Sentiments)\n",
    "print('Total reviews loaded', N)\n",
    "print('Total sentiments loaded', M)\n"
   ]
  },
  {
   "cell_type": "code",
   "execution_count": 6,
   "id": "c628f7d0",
   "metadata": {},
   "outputs": [],
   "source": [
    "#tokenize reviews\n",
    "Reviews_Tok=[tokenize(review) for review in Reviews]\n"
   ]
  },
  {
   "cell_type": "code",
   "execution_count": 7,
   "id": "92a440e8",
   "metadata": {},
   "outputs": [],
   "source": [
    "#tokenize reviews and put them back together as strings\n",
    "Review_tok_2 = []\n",
    "for review in Reviews:\n",
    "    rev = \"\"\n",
    "    terms = tokenize(review)\n",
    "    for term in terms:\n",
    "        rev += term + ' '\n",
    "    Review_tok_2.append(rev)"
   ]
  },
  {
   "cell_type": "code",
   "execution_count": 8,
   "id": "cfc565e4",
   "metadata": {},
   "outputs": [],
   "source": [
    "#set tfidf with 1000 max features\n",
    "tfidf = TfidfVectorizer(dtype=np.float32, max_features=1000)"
   ]
  },
  {
   "cell_type": "code",
   "execution_count": 9,
   "id": "9098ca2f",
   "metadata": {},
   "outputs": [],
   "source": [
    "#fit reviews to tfidf\n",
    "X_tfidf = tfidf.fit_transform(Review_tok_2)\n"
   ]
  },
  {
   "cell_type": "code",
   "execution_count": 10,
   "id": "8a31740f",
   "metadata": {},
   "outputs": [
    {
     "name": "stdout",
     "output_type": "stream",
     "text": [
      "N data points= 50000, M features= 1000\n"
     ]
    }
   ],
   "source": [
    "#check counts, size of the X dataset - raw features\n",
    "print(f'N data points= {X_tfidf.shape[0]}, M features= {X_tfidf.shape[1]}')"
   ]
  },
  {
   "cell_type": "code",
   "execution_count": 11,
   "id": "6cbc83ea",
   "metadata": {},
   "outputs": [
    {
     "name": "stdout",
     "output_type": "stream",
     "text": [
      "Size of y: 50000\n"
     ]
    }
   ],
   "source": [
    "#convert to numerical np.array which sklearn requires\n",
    "yCategories = [0, 1]\n",
    "ydocs = np.array([yCategories.index(_) for _ in Sentiments], dtype='int64')\n",
    "\n",
    "#Size of y\n",
    "print(f\"Size of y: {len(ydocs)}\")"
   ]
  },
  {
   "cell_type": "markdown",
   "id": "0b39fa2a",
   "metadata": {},
   "source": [
    "**10-fold classification evaluation function**"
   ]
  },
  {
   "cell_type": "code",
   "execution_count": 12,
   "id": "34f1e3ec",
   "metadata": {},
   "outputs": [],
   "source": [
    "def kfold_eval_docs(_clf, _Xdocs, _ydocs):\n",
    "    # Need indexable data structure\n",
    "    acc = []\n",
    "    kf = StratifiedKFold(n_splits=10, shuffle=False, random_state=None)\n",
    "    for train_index, test_index in kf.split(_Xdocs, _ydocs):\n",
    "        _clf.fit(_Xdocs[train_index], _ydocs[train_index])\n",
    "        y_pred = _clf.predict(_Xdocs[test_index])\n",
    "        acc += [accuracy_score(_ydocs[test_index], y_pred)]\n",
    "\n",
    "    return np.array(acc)"
   ]
  },
  {
   "cell_type": "code",
   "execution_count": 13,
   "id": "0c3af41a",
   "metadata": {},
   "outputs": [
    {
     "name": "stdout",
     "output_type": "stream",
     "text": [
      "Linear SVM 10-fold CV accuracy= 0.86 ±0.004\n",
      "CPU times: user 5.22 s, sys: 56.5 ms, total: 5.28 s\n",
      "Wall time: 5.28 s\n"
     ]
    }
   ],
   "source": [
    "%%time\n",
    "#run kfold with svm for testing purposes\n",
    "acc = kfold_eval_docs(LinearSVC(class_weight='balanced'), X_tfidf, ydocs)\n",
    "print(f\"Linear SVM 10-fold CV accuracy= {np.mean(acc):.2f} {chr(177)}{np.std(acc):.3f}\")\n"
   ]
  },
  {
   "cell_type": "markdown",
   "id": "41040b15",
   "metadata": {},
   "source": [
    "**PyTorch feed forward neural network with 1 hidden layer - input and hidden layers with ReLU activation and output with Softmax activation**"
   ]
  },
  {
   "cell_type": "code",
   "execution_count": 14,
   "id": "ab2d882b",
   "metadata": {},
   "outputs": [],
   "source": [
    "#classifer from mod13 notebook\n",
    "class CustomMLP(nn.Module):\n",
    "    \"\"\" A PyTorch neural network model \"\"\"\n",
    "    def __init__(self, n_hidden=30, epochs=100, eta=0.05, minibatch_size=50):\n",
    "        super(CustomMLP, self).__init__()\n",
    "        self.n_hidden = n_hidden  # hidden layer size\n",
    "        self.epochs = epochs  # number of learning iterations\n",
    "        self.eta = eta  # learning rate\n",
    "        self.minibatch_size = minibatch_size  # size of training batch - 1 would not work\n",
    "        self.fc1, self.fc2, self.fc3 = None, None, None\n",
    "\n",
    "    def _forward(self, X, apply_softmax=True):\n",
    "        assert self.fc1 != None\n",
    "        X = F.relu(self.fc1(X))\n",
    "        X = F.relu(self.fc2(X))\n",
    "        X = self.fc3(X)\n",
    "        if apply_softmax:\n",
    "            X = F.softmax(X, dim=1)\n",
    "        return X\n",
    "\n",
    "    def _reset(self):\n",
    "        for m in self.modules():\n",
    "            if isinstance(m, nn.Linear):\n",
    "                 m.reset_parameters()\n",
    "\n",
    "    def predict(self, X):\n",
    "        assert self.fc1 != None\n",
    "        net_out = self._forward(X, apply_softmax=True)\n",
    "        p_values, indices = net_out.max(dim=1)\n",
    "        return indices\n",
    "\n",
    "    def fit(self, X_train, y_train):\n",
    "        self._reset()  # Reset the neural network weights\n",
    "        n_output= np.unique(y_train).shape[0]  # number of class labels\n",
    "        n_features= X_train.shape[1]\n",
    "\n",
    "        self.fc1 = nn.Linear(n_features, self.n_hidden)  # A simple input layer\n",
    "        self.fc2 = nn.Linear(self.n_hidden, self.n_hidden)  # A simple hidden layer\n",
    "        self.fc3 = nn.Linear(self.n_hidden, n_output)  # A simple output layer\n",
    "        \n",
    "        optimizer = optim.SGD(self.parameters(), lr=self.eta, momentum=0.9)\n",
    "        loss_func = nn.CrossEntropyLoss()\n",
    "\n",
    "        for _ in range(self.epochs):\n",
    "            indices = np.arange(X_train.shape[0])\n",
    "            \n",
    "            for start_idx in range(0, indices.shape[0] - self.minibatch_size + 1, self.minibatch_size):\n",
    "                batch_idx = indices[start_idx:start_idx + self.minibatch_size]\n",
    "                optimizer.zero_grad()\n",
    "                \n",
    "                net_out = self._forward(X_train[batch_idx])\n",
    "                \n",
    "                loss = loss_func(net_out, y_train[batch_idx])\n",
    "                loss.backward()\n",
    "                optimizer.step()"
   ]
  },
  {
   "cell_type": "code",
   "execution_count": 15,
   "id": "344f5171",
   "metadata": {},
   "outputs": [],
   "source": [
    "#create classifier\n",
    "clf = CustomMLP(100, 10, 0.1, 2000)\n"
   ]
  },
  {
   "cell_type": "code",
   "execution_count": 16,
   "id": "8d3be5d0",
   "metadata": {},
   "outputs": [
    {
     "name": "stdout",
     "output_type": "stream",
     "text": [
      "PyTorch Feedforward NN 10-fold CV accuracy= 0.83 ±0.011\n",
      "CPU times: user 2min 5s, sys: 1min 42s, total: 3min 47s\n",
      "Wall time: 34.1 s\n"
     ]
    }
   ],
   "source": [
    "%%time\n",
    "#run model\n",
    "acc = kfold_eval_docs(clf, torch.tensor(X_tfidf.todense()), torch.tensor(ydocs))\n",
    "\n",
    "print(f\"PyTorch Feedforward NN 10-fold CV accuracy= {np.mean(acc):.2f} {chr(177)}{np.std(acc):.3f}\")"
   ]
  },
  {
   "cell_type": "markdown",
   "id": "bf2cd779",
   "metadata": {},
   "source": [
    "**Tune the hyper-parameter eta and plot the performance on various eta values**"
   ]
  },
  {
   "cell_type": "code",
   "execution_count": 17,
   "id": "475bc0ce",
   "metadata": {},
   "outputs": [],
   "source": [
    "#create classifiers with different etas\n",
    "clf5 = CustomMLP(100, 10, 0.5, 2000)\n",
    "clf1 = CustomMLP(100, 10, 0.1, 2000)\n",
    "clf05 = CustomMLP(100, 10, 0.05, 2000)\n",
    "clf01 = CustomMLP(100, 10, 0.01, 2000)\n",
    "clf005 = CustomMLP(100, 10, 0.005, 2000)\n",
    "clf001 = CustomMLP(100, 10, 0.001, 2000)"
   ]
  },
  {
   "cell_type": "code",
   "execution_count": 18,
   "id": "88679dd9",
   "metadata": {},
   "outputs": [
    {
     "name": "stdout",
     "output_type": "stream",
     "text": [
      "PyTorch Feedforward NN 10-fold CV accuracy (ETA 0.5)= 0.85 ±0.017\n",
      "CPU times: user 2min 9s, sys: 1min 7s, total: 3min 16s\n",
      "Wall time: 23.4 s\n"
     ]
    }
   ],
   "source": [
    "%%time\n",
    "#run model ETA 0.5\n",
    "acc5 = kfold_eval_docs(clf5, torch.tensor(X_tfidf.todense()), torch.tensor(ydocs))\n",
    "print(f\"PyTorch Feedforward NN 10-fold CV accuracy (ETA 0.5)= {np.mean(acc5):.2f} {chr(177)}{np.std(acc5):.3f}\")\n"
   ]
  },
  {
   "cell_type": "code",
   "execution_count": 19,
   "id": "69625bb7",
   "metadata": {},
   "outputs": [
    {
     "name": "stdout",
     "output_type": "stream",
     "text": [
      "PyTorch Feedforward NN 10-fold CV accuracy (ETA 0.1)= 0.82 ±0.013\n",
      "CPU times: user 2min 17s, sys: 1min 20s, total: 3min 38s\n",
      "Wall time: 26.5 s\n"
     ]
    }
   ],
   "source": [
    "%%time \n",
    "#run model ETA 0.1\n",
    "acc1 = kfold_eval_docs(clf1, torch.tensor(X_tfidf.todense()), torch.tensor(ydocs))\n",
    "print(f\"PyTorch Feedforward NN 10-fold CV accuracy (ETA 0.1)= {np.mean(acc1):.2f} {chr(177)}{np.std(acc1):.3f}\")\n"
   ]
  },
  {
   "cell_type": "code",
   "execution_count": 20,
   "id": "a056302b",
   "metadata": {},
   "outputs": [
    {
     "name": "stdout",
     "output_type": "stream",
     "text": [
      "PyTorch Feedforward NN 10-fold CV accuracy (ETA 0.05)= 0.75 ±0.025\n",
      "CPU times: user 2min 17s, sys: 1min 18s, total: 3min 36s\n",
      "Wall time: 26.6 s\n"
     ]
    }
   ],
   "source": [
    "%%time\n",
    "#run model ETA 0.05\n",
    "acc05 = kfold_eval_docs(clf05, torch.tensor(X_tfidf.todense()), torch.tensor(ydocs))\n",
    "print(f\"PyTorch Feedforward NN 10-fold CV accuracy (ETA 0.05)= {np.mean(acc05):.2f} {chr(177)}{np.std(acc05):.3f}\")\n"
   ]
  },
  {
   "cell_type": "code",
   "execution_count": 21,
   "id": "3da9763a",
   "metadata": {},
   "outputs": [
    {
     "name": "stdout",
     "output_type": "stream",
     "text": [
      "PyTorch Feedforward NN 10-fold CV accuracy (ETA 0.01)= 0.58 ±0.021\n",
      "CPU times: user 2min 17s, sys: 1min 5s, total: 3min 22s\n",
      "Wall time: 23.3 s\n"
     ]
    }
   ],
   "source": [
    "%%time\n",
    "#run model ETA 0.01\n",
    "acc01 = kfold_eval_docs(clf01, torch.tensor(X_tfidf.todense()), torch.tensor(ydocs))\n",
    "print(f\"PyTorch Feedforward NN 10-fold CV accuracy (ETA 0.01)= {np.mean(acc01):.2f} {chr(177)}{np.std(acc01):.3f}\")\n"
   ]
  },
  {
   "cell_type": "code",
   "execution_count": 22,
   "id": "35a56eca",
   "metadata": {},
   "outputs": [
    {
     "name": "stdout",
     "output_type": "stream",
     "text": [
      "PyTorch Feedforward NN 10-fold CV accuracy (ETA 0.005)= 0.51 ±0.021\n",
      "CPU times: user 2min 20s, sys: 1min 21s, total: 3min 41s\n",
      "Wall time: 27.5 s\n"
     ]
    }
   ],
   "source": [
    "%%time\n",
    "#run model ETA 0.005\n",
    "acc005 = kfold_eval_docs(clf005, torch.tensor(X_tfidf.todense()), torch.tensor(ydocs))\n",
    "print(f\"PyTorch Feedforward NN 10-fold CV accuracy (ETA 0.005)= {np.mean(acc005):.2f} {chr(177)}{np.std(acc005):.3f}\")\n"
   ]
  },
  {
   "cell_type": "code",
   "execution_count": 23,
   "id": "dd75d61f",
   "metadata": {},
   "outputs": [
    {
     "name": "stdout",
     "output_type": "stream",
     "text": [
      "PyTorch Feedforward NN 10-fold CV accuracy (ETA 0.001)= 0.50 ±0.000\n",
      "CPU times: user 2min 15s, sys: 1min 16s, total: 3min 31s\n",
      "Wall time: 25.9 s\n"
     ]
    }
   ],
   "source": [
    "%%time\n",
    "#run model ETA 0.001\n",
    "acc001 = kfold_eval_docs(clf001, torch.tensor(X_tfidf.todense()), torch.tensor(ydocs))\n",
    "print(f\"PyTorch Feedforward NN 10-fold CV accuracy (ETA 0.001)= {np.mean(acc001):.2f} {chr(177)}{np.std(acc001):.3f}\")\n"
   ]
  },
  {
   "cell_type": "code",
   "execution_count": 24,
   "id": "a0595b23",
   "metadata": {},
   "outputs": [],
   "source": [
    "#get x,y coords\n",
    "x=[.5, .1, .05, .01, .005, .001]\n",
    "y=[np.mean(acc5), np.mean(acc1), np.mean(acc05), np.mean(acc01), np.mean(acc005), np.mean(acc001)]"
   ]
  },
  {
   "cell_type": "code",
   "execution_count": 25,
   "id": "df44b02f",
   "metadata": {},
   "outputs": [
    {
     "data": {
      "image/png": "[encoded data removed]",
      "text/plain": [
       "<Figure size 640x480 with 1 Axes>"
      ]
     },
     "metadata": {},
     "output_type": "display_data"
    }
   ],
   "source": [
    "#plot the accuracy v eta\n",
    "plt.plot(x, y,'-o')\n",
    "plt.title('Accuracy v eta')\n",
    "plt.xlabel('eta')\n",
    "plt.ylabel('Accuracy')\n",
    "plt.text(0.008, 0.50, '0.001', fontsize=6)\n",
    "plt.text(0.012, 0.51, '0.005', fontsize=6)\n",
    "plt.text(0.017, 0.59, '0.01', fontsize=6)\n",
    "plt.text(0.058, 0.76, '0.05', fontsize=6)\n",
    "plt.text(0.109, 0.81, '0.1', fontsize=6)\n",
    "plt.text(0.5, 0.84, '0.5', fontsize=6)\n",
    "#plt.text(0.9, 0.2, 'cos')\n",
    "plt.show()"
   ]
  },
  {
   "cell_type": "code",
   "execution_count": null,
   "id": "5c696dbe",
   "metadata": {},
   "outputs": [],
   "source": []
  }
 ],
 "metadata": {
  "kernelspec": {
   "display_name": "Python 3 (ipykernel)",
   "language": "python",
   "name": "python3"
  },
  "language_info": {
   "codemirror_mode": {
    "name": "ipython",
    "version": 3
   },
   "file_extension": ".py",
   "mimetype": "text/x-python",
   "name": "python",
   "nbconvert_exporter": "python",
   "pygments_lexer": "ipython3",
   "version": "3.8.15"
  }
 },
 "nbformat": 4,
 "nbformat_minor": 5
}
